{
 "cells": [
  {
   "cell_type": "markdown",
   "id": "5fcc9869-b55c-4a0d-aa67-355ae1d4c206",
   "metadata": {},
   "source": [
    "---------------------------------------------------------Imports-----------------------------------------------------------------------------------------"
   ]
  },
  {
   "cell_type": "code",
   "execution_count": 17,
   "id": "f0ec5501-35ad-440c-9fa4-4f9f8243a001",
   "metadata": {
    "tags": []
   },
   "outputs": [],
   "source": [
    "import pandas as pd\n",
    "from sklearn.preprocessing import LabelEncoder\n",
    "from sklearn.model_selection import train_test_split\n",
    "import re\n",
    "import time\n",
    "import random\n",
    "import pickle\n",
    "import numpy as np\n",
    "import seaborn as sns\n",
    "from sklearn.feature_extraction.text import CountVectorizer\n",
    "\n",
    "import string\n",
    "import re\n",
    "from nltk.tokenize import word_tokenize\n",
    "from nltk.corpus import stopwords\n",
    "from nltk.stem import PorterStemmer\n",
    "from nltk.stem import WordNetLemmatizer\n",
    "\n",
    "from tqdm import tqdm\n",
    "from transformers import MarianMTModel, MarianTokenizer\n",
    "import torch\n",
    "import matplotlib as mpl\n",
    "import matplotlib.pyplot as plt\n",
    "from sklearn.metrics import log_loss\n",
    "from sklearn.metrics import accuracy_score, classification_report, confusion_matrix, log_loss\n",
    "\n",
    "from collections import Counter\n",
    "from sklearn.pipeline import Pipeline\n",
    "from scipy.stats import randint, uniform\n",
    "from imblearn.over_sampling import SMOTE\n",
    "from sklearn.neural_network import MLPClassifier\n",
    "from sklearn.metrics import classification_report\n",
    "from sklearn.feature_extraction.text import TfidfVectorizer\n",
    "from sklearn.linear_model import LogisticRegression, SGDClassifier\n",
    "from sklearn.tree import DecisionTreeClassifier, ExtraTreeClassifier\n",
    "from sklearn.model_selection import RandomizedSearchCV, cross_validate, KFold\n",
    "from sklearn.ensemble import AdaBoostClassifier, RandomForestClassifier, ExtraTreesClassifier, GradientBoostingClassifier, BaggingClassifier\n",
    "from sklearn.metrics import ConfusionMatrixDisplay, classification_report, confusion_matrix, make_scorer, accuracy_score, f1_score, precision_score, recall_score\n",
    "from sklearn.linear_model import LogisticRegression\n",
    "from sklearn.model_selection import train_test_split\n",
    "from sklearn.metrics import accuracy_score, classification_report, confusion_matrix\n",
    "\n"
   ]
  },
  {
   "cell_type": "code",
   "execution_count": 18,
   "id": "9cd61e47-46ef-4256-ad40-34cfdda3e6d0",
   "metadata": {},
   "outputs": [
    {
     "name": "stderr",
     "output_type": "stream",
     "text": [
      "[nltk_data] Downloading package punkt to\n",
      "[nltk_data]     C:\\Users\\sheha\\AppData\\Roaming\\nltk_data...\n",
      "[nltk_data]   Package punkt is already up-to-date!\n",
      "[nltk_data] Downloading package stopwords to\n",
      "[nltk_data]     C:\\Users\\sheha\\AppData\\Roaming\\nltk_data...\n",
      "[nltk_data]   Package stopwords is already up-to-date!\n",
      "[nltk_data] Downloading package wordnet to\n",
      "[nltk_data]     C:\\Users\\sheha\\AppData\\Roaming\\nltk_data...\n",
      "[nltk_data]   Package wordnet is already up-to-date!\n"
     ]
    },
    {
     "data": {
      "text/plain": [
       "True"
      ]
     },
     "execution_count": 18,
     "metadata": {},
     "output_type": "execute_result"
    }
   ],
   "source": [
    "import nltk\n",
    "nltk.download('punkt')\n",
    "nltk.download('stopwords')\n",
    "nltk.download('wordnet')"
   ]
  },
  {
   "cell_type": "markdown",
   "id": "8fceae5e-fdbd-4617-8599-ddf234414d1e",
   "metadata": {},
   "source": [
    "-------------------------------------------------------------entering dataset looking at the shape and removing null values------------------------------"
   ]
  },
  {
   "cell_type": "code",
   "execution_count": 20,
   "id": "3abdd9f5-76ed-4eca-8f6d-a61ff2d2f06a",
   "metadata": {
    "tags": []
   },
   "outputs": [
    {
     "name": "stdout",
     "output_type": "stream",
     "text": [
      "   Unnamed: 0                                          statement   status\n",
      "0           0                                         oh my gosh  Anxiety\n",
      "1           1  trouble sleeping, confused mind, restless hear...  Anxiety\n",
      "2           2  All wrong, back off dear, forward doubt. Stay ...  Anxiety\n",
      "3           3  I've shifted my focus to something else but I'...  Anxiety\n",
      "4           4  I'm restless and restless, it's been a month n...  Anxiety\n"
     ]
    }
   ],
   "source": [
    "data_path = \"Combined Data.csv\" \n",
    "data = pd.read_csv(data_path)\n",
    "print(data.head())"
   ]
  },
  {
   "cell_type": "code",
   "execution_count": null,
   "id": "326f8cb8-4c73-43a5-9249-632001446183",
   "metadata": {},
   "outputs": [],
   "source": []
  },
  {
   "cell_type": "code",
   "execution_count": 21,
   "id": "7b6cb266-4d43-4f0c-973d-7a4c2cba4c4b",
   "metadata": {
    "tags": []
   },
   "outputs": [
    {
     "name": "stdout",
     "output_type": "stream",
     "text": [
      "(53043, 3)\n",
      "<class 'pandas.core.frame.DataFrame'>\n",
      "RangeIndex: 53043 entries, 0 to 53042\n",
      "Data columns (total 3 columns):\n",
      " #   Column      Non-Null Count  Dtype \n",
      "---  ------      --------------  ----- \n",
      " 0   Unnamed: 0  53043 non-null  int64 \n",
      " 1   statement   52681 non-null  object\n",
      " 2   status      53043 non-null  object\n",
      "dtypes: int64(1), object(2)\n",
      "memory usage: 1.2+ MB\n",
      "None\n",
      "Unnamed: 0      0\n",
      "statement     362\n",
      "status          0\n",
      "dtype: int64\n"
     ]
    }
   ],
   "source": [
    "print(data.shape)\n",
    "print(data.info())\n",
    "print(data.isnull().sum())"
   ]
  },
  {
   "cell_type": "code",
   "execution_count": 22,
   "id": "2fecd204-73c1-4dc4-aaac-2e55d81f412f",
   "metadata": {
    "tags": []
   },
   "outputs": [
    {
     "name": "stdout",
     "output_type": "stream",
     "text": [
      "(52681, 3)\n"
     ]
    }
   ],
   "source": [
    "data = data.dropna(subset=['statement'])\n",
    "print(data.shape)"
   ]
  },
  {
   "cell_type": "code",
   "execution_count": 23,
   "id": "ac11b3f3-673e-4300-b15c-fe4e1451be81",
   "metadata": {
    "tags": []
   },
   "outputs": [
    {
     "name": "stdout",
     "output_type": "stream",
     "text": [
      "Unnamed: 0    0\n",
      "statement     0\n",
      "status        0\n",
      "dtype: int64\n"
     ]
    }
   ],
   "source": [
    "print(data.isnull().sum())"
   ]
  },
  {
   "cell_type": "markdown",
   "id": "4a7314f4-d762-40dd-8035-fc3b47b14af1",
   "metadata": {},
   "source": [
    "---------------------------------------------------------------visualizing dataset----------------------------------------------------------------------"
   ]
  },
  {
   "cell_type": "code",
   "execution_count": 25,
   "id": "6a8c2aae-7976-4dbd-9fe9-eac0af3762ab",
   "metadata": {
    "tags": []
   },
   "outputs": [
    {
     "data": {
      "image/png": "[encoded data removed]",
      "text/plain": [
       "<Figure size 600x600 with 1 Axes>"
      ]
     },
     "metadata": {},
     "output_type": "display_data"
    }
   ],
   "source": [
    "plt.figure(figsize=(6,6))\n",
    "plt.pie(data['status'].value_counts(), labels=data['status'].unique(), autopct='%1.1f%%')\n",
    "plt.title('Status Distribution')\n",
    "plt.show()"
   ]
  },
  {
   "cell_type": "code",
   "execution_count": 26,
   "id": "c2a37453-908e-44a2-be86-ed878c02c75a",
   "metadata": {
    "tags": []
   },
   "outputs": [
    {
     "data": {
      "text/plain": [
       "Unnamed: 0    False\n",
       "statement     False\n",
       "status        False\n",
       "dtype: bool"
      ]
     },
     "execution_count": 26,
     "metadata": {},
     "output_type": "execute_result"
    }
   ],
   "source": [
    "data.isna().any()"
   ]
  },
  {
   "cell_type": "code",
   "execution_count": 27,
   "id": "7dd0d1d5-c730-4c00-91b5-75cf94e7a1cf",
   "metadata": {
    "tags": []
   },
   "outputs": [
    {
     "name": "stdout",
     "output_type": "stream",
     "text": [
      "Total words: 5961315 | Unique words: 138966\n"
     ]
    }
   ],
   "source": [
    "total_words =  ' '.join(data['statement'].values)\n",
    "unique_words = set(total_words.lower().split())\n",
    "\n",
    "print(f\"Total words: {len(total_words.split())} | Unique words: {len(unique_words)}\")"
   ]
  },
  {
   "cell_type": "code",
   "execution_count": 28,
   "id": "1ad52e1e-5c98-4648-83e9-d3df91b1dc50",
   "metadata": {
    "tags": []
   },
   "outputs": [
    {
     "name": "stdout",
     "output_type": "stream",
     "text": [
      "I             319524\n",
      "to            193910\n",
      "and           169077\n",
      "the           119388\n",
      "a             115565\n",
      "               ...  \n",
      "thing.....         1\n",
      "tumors....         1\n",
      "Etc.)              1\n",
      "220lbs             1\n",
      "media’s            1\n",
      "Name: count, Length: 154767, dtype: int64\n"
     ]
    }
   ],
   "source": [
    "word_count = pd.Series(total_words.split()).value_counts()\n",
    "word_count = word_count.sort_values(ascending=False)\n",
    "print(word_count)"
   ]
  },
  {
   "cell_type": "markdown",
   "id": "3114ca0a-36c2-491c-8aae-1b9da950fa8a",
   "metadata": {},
   "source": [
    "--------------------------------------------------------- most common words-----------------------------------------------------------------------------"
   ]
  },
  {
   "cell_type": "code",
   "execution_count": 30,
   "id": "9c821e88-0b3f-4835-b261-158a38a6b702",
   "metadata": {
    "tags": []
   },
   "outputs": [
    {
     "data": {
      "text/plain": [
       "I       319524\n",
       "to      193910\n",
       "and     169077\n",
       "the     119388\n",
       "a       115565\n",
       "my      109073\n",
       "of       83995\n",
       "i        79599\n",
       "not      72618\n",
       "is       68692\n",
       "have     68638\n",
       "it       65533\n",
       "that     63173\n",
       "am       60605\n",
       "in       58877\n",
       "me       56220\n",
       "for      52059\n",
       "do       51076\n",
       "but      48749\n",
       "just     46426\n",
       "with     40212\n",
       "this     37871\n",
       "so       37799\n",
       "was      36975\n",
       "like     35917\n",
       "Name: count, dtype: int64"
      ]
     },
     "execution_count": 30,
     "metadata": {},
     "output_type": "execute_result"
    }
   ],
   "source": [
    "word_count[:25]"
   ]
  },
  {
   "cell_type": "markdown",
   "id": "19a7ba0f-aeb4-4bb6-b274-9f8fb1e93da5",
   "metadata": {},
   "source": [
    "---------------------------------------------------most uncommon words ---------------------------------------------------------------------------------"
   ]
  },
  {
   "cell_type": "code",
   "execution_count": 32,
   "id": "c7fbfff6-09a2-4004-91d5-4863e525f055",
   "metadata": {
    "tags": []
   },
   "outputs": [
    {
     "data": {
      "text/plain": [
       "*look                                        1\n",
       "asthma?                                      1\n",
       "sarcoma,                                     1\n",
       "Capsules                                     1\n",
       "lipomas                                      1\n",
       "Maximize                                     1\n",
       "Ashwapepper.                                 1\n",
       "overwashed                                   1\n",
       "https://aggripure.in/product/ashwapepper/    1\n",
       "unsual                                       1\n",
       "thermometer.And                              1\n",
       "burning/coldish                              1\n",
       "body.What                                    1\n",
       "alive?Am                                     1\n",
       "swallow?                                     1\n",
       "stone)                                       1\n",
       "facts:                                       1\n",
       "27F,                                         1\n",
       "gambit                                       1\n",
       "Unsual                                       1\n",
       "thing.....                                   1\n",
       "tumors....                                   1\n",
       "Etc.)                                        1\n",
       "220lbs                                       1\n",
       "media’s                                      1\n",
       "Name: count, dtype: int64"
      ]
     },
     "execution_count": 32,
     "metadata": {},
     "output_type": "execute_result"
    }
   ],
   "source": [
    "word_count[-25:]"
   ]
  },
  {
   "cell_type": "code",
   "execution_count": 33,
   "id": "95acf391-8e47-404d-b448-d47c7cfedc27",
   "metadata": {
    "tags": []
   },
   "outputs": [
    {
     "data": {
      "image/png": "[encoded data removed]",
      "text/plain": [
       "<Figure size 1000x1000 with 1 Axes>"
      ]
     },
     "metadata": {},
     "output_type": "display_data"
    }
   ],
   "source": [
    "word_count[:20].plot.barh(figsize=(10,10),\n",
    "                          fontsize=15,\n",
    "                          colormap=\"Pastel2\",\n",
    "                          title=\"Word frequency\").title.set_size(25)"
   ]
  },
  {
   "cell_type": "markdown",
   "id": "2d56b633-1ae7-4e28-bffc-0638d981e1ee",
   "metadata": {},
   "source": [
    "----------------------------------------------------------data processing ---------------------------------------------------------------------------"
   ]
  },
  {
   "cell_type": "code",
   "execution_count": 35,
   "id": "6ac83afe-c9de-4a8a-931d-5a23bed84b5b",
   "metadata": {},
   "outputs": [
    {
     "name": "stdout",
     "output_type": "stream",
     "text": [
      "Unnamed: 0      0\n",
      "statement     362\n",
      "status          0\n",
      "dtype: int64\n",
      "   Unnamed: 0                                          statement   status\n",
      "0           0                                         oh my gosh  Anxiety\n",
      "1           1  trouble sleeping, confused mind, restless hear...  Anxiety\n",
      "2           2  All wrong, back off dear, forward doubt. Stay ...  Anxiety\n",
      "3           3  I've shifted my focus to something else but I'...  Anxiety\n",
      "4           4  I'm restless and restless, it's been a month n...  Anxiety\n",
      "                                           statement  \\\n",
      "0                                         oh my gosh   \n",
      "1  trouble sleeping, confused mind, restless hear...   \n",
      "2  All wrong, back off dear, forward doubt. Stay ...   \n",
      "3  I've shifted my focus to something else but I'...   \n",
      "4  I'm restless and restless, it's been a month n...   \n",
      "\n",
      "                                   augmented_feature  label  \n",
      "0                                severely gosh oh my      1  \n",
      "1  trouble of confused judgement exceptionally ou...      1  \n",
      "2  all wrong back off pricy place doubt stay in f...      1  \n",
      "3  ive shifted focus but fabulously to something ...      1  \n",
      "4  you restless boy restless its been a month now...      1  \n"
     ]
    }
   ],
   "source": [
    "import random\n",
    "import re\n",
    "import string\n",
    "import pandas as pd\n",
    "from nltk.corpus import wordnet \n",
    "\n",
    "\n",
    "def preprocess_text(text):\n",
    "    if not isinstance(text, str):  \n",
    "        return '' \n",
    "    text = text.lower()  \n",
    "    text = re.sub(r'\\[.*?\\]', '', text)  \n",
    "    text = re.sub(r'https?://\\S+|www\\.\\S+', '', text)  \n",
    "    text = re.sub(r'<.*?>+', '', text)  \n",
    "    text = re.sub(r'[%s]' % re.escape(string.punctuation), '', text)  \n",
    "    text = re.sub(r'\\n', '', text) \n",
    "    text = re.sub(r'\\w*\\d\\w*', '', text)  \n",
    "    return text\n",
    "\n",
    "\n",
    "def get_synonyms(word):\n",
    "    synonyms = set()\n",
    "    for syn in wordnet.synsets(word):\n",
    "        for lemma in syn.lemmas():\n",
    "            synonyms.add(lemma.name())\n",
    "    return list(synonyms)\n",
    "\n",
    "\n",
    "def synonym_replacement(text):\n",
    "    words = text.split()  \n",
    "    if not words:  \n",
    "        return text  \n",
    "    \n",
    "    new_sentence = words.copy()  \n",
    "    \n",
    "    \n",
    "    random_word = random.choice(words)\n",
    "    synonyms = get_synonyms(random_word)\n",
    "    \n",
    "    if synonyms: \n",
    "        synonym = random.choice(synonyms)\n",
    "        new_sentence = [synonym if word == random_word else word for word in words]\n",
    "    \n",
    "    return ' '.join(new_sentence)\n",
    "\n",
    "\n",
    "def random_swap(text, num_swaps=1):\n",
    "    words = text.split()\n",
    "    if len(words) <= 1:\n",
    "        return text\n",
    "    \n",
    "    for _ in range(num_swaps):\n",
    "        idx1, idx2 = random.sample(range(len(words)), 2)  \n",
    "        words[idx1], words[idx2] = words[idx2], words[idx1]  \n",
    "    \n",
    "    return ' '.join(words)\n",
    "\n",
    "\n",
    "def random_insertion(text, num_insertions=1):\n",
    "    words = text.split()\n",
    "    if not words: \n",
    "        return text\n",
    "    \n",
    "    insertions = 0\n",
    "    additional_words = [\n",
    "    'very', 'extremely', 'really', 'quite', 'somewhat', 'incredibly', 'barely', 'significantly',\n",
    "    'absolutely', 'completely', 'totally', 'highly', 'exceptionally', 'moderately', 'almost', 'slightly',\n",
    "    'undoubtedly', 'unbelievably', 'surprisingly', 'easily', 'remarkably', 'genuinely', 'noticeably', \n",
    "    'particularly', 'unusually', 'incredibly', 'fairly', 'considerably', 'strongly', 'severely',\n",
    "    'incredibly', 'unquestionably', 'unusually', 'undeniably', 'truly', 'uncommonly', 'definitely',\n",
    "    'mostly', 'substantially', 'largely', 'totally', 'thoroughly', 'entirely', 'absolutely', \n",
    "    'fundamentally', 'totally', 'significantly', 'deeply', 'seriously', 'intensely', 'extensively', \n",
    "    'uncommonly', 'intensely', 'vividly', 'profoundly', 'stunningly', 'fabulously', 'strikingly',\n",
    "    'marvelously', 'amazingly', 'dramatically', 'staggeringly', 'astonishingly', 'exceedingly', \n",
    "    'excessively', 'irrefutably', 'unquestionably', 'very much', 'eminently', 'particularly', \n",
    "    'decidedly', 'positively', 'so', 'abnormally', 'wildly', 'immensely', 'monstrously'\n",
    "]\n",
    "\n",
    "    \n",
    "    while insertions < num_insertions:\n",
    "        random_position = random.randint(0, len(words) - 1) \n",
    "        word_to_insert = random.choice(additional_words)\n",
    "        words.insert(random_position, word_to_insert)\n",
    "        insertions += 1\n",
    "    \n",
    "    return ' '.join(words)\n",
    "\n",
    "\n",
    "data_path = \"Combined Data.csv\" \n",
    "data = pd.read_csv(data_path)\n",
    "\n",
    "\n",
    "print(data.isnull().sum())  \n",
    "\n",
    "print(data.head())\n",
    "\n",
    "\n",
    "data['feature'] = data['statement'].apply(lambda x: preprocess_text(x))\n",
    "\n",
    "\n",
    "data['augmented_feature'] = data['feature'].apply(lambda x: synonym_replacement(x))\n",
    "\n",
    "\n",
    "data['augmented_feature'] = data['augmented_feature'].apply(lambda x: random_swap(x, num_swaps=2))\n",
    "data['augmented_feature'] = data['augmented_feature'].apply(lambda x: random_insertion(x, num_insertions=1))\n",
    "\n",
    "\n",
    "abnormal_conditions = ['Anxiety', 'Depression', 'Stress', 'Bipolar', 'Suicidal', 'Personality Disorder']\n",
    "\n",
    "\n",
    "data[\"label\"] = data[\"status\"].apply(lambda x: 1 if x in abnormal_conditions else 0)\n",
    "\n",
    "print(data[['statement', 'augmented_feature', 'label']].head())\n"
   ]
  },
  {
   "cell_type": "markdown",
   "id": "c3bb79cc-0e97-4703-aea0-3777501b11cf",
   "metadata": {},
   "source": [
    "----------------------------------------------splitting the dataset to train ,validation,and testing ----------------------------------------------------"
   ]
  },
  {
   "cell_type": "code",
   "execution_count": null,
   "id": "cc2c721e-e5fa-421a-938b-3939c9892536",
   "metadata": {},
   "outputs": [],
   "source": []
  },
  {
   "cell_type": "code",
   "execution_count": 37,
   "id": "8287d1fb-1dc5-4fcc-b229-a271419b2b1d",
   "metadata": {
    "tags": []
   },
   "outputs": [
    {
     "name": "stdout",
     "output_type": "stream",
     "text": [
      "Training set size: 26521\n",
      "Validation set size: 13261\n",
      "Test set size: 13261\n"
     ]
    }
   ],
   "source": [
    "from sklearn.model_selection import train_test_split\n",
    "x = data['feature']  \n",
    "y = data['label'] \n",
    "x_train, x_temp, y_train, y_temp = train_test_split(x, y, test_size=0.5, random_state=42)\n",
    "x_val, x_test, y_val, y_test = train_test_split(x_temp, y_temp, test_size=0.5, random_state=42)\n",
    "print(f\"Training set size: {len(x_train)}\")\n",
    "print(f\"Validation set size: {len(x_val)}\")\n",
    "print(f\"Test set size: {len(x_test)}\")\n"
   ]
  },
  {
   "cell_type": "markdown",
   "id": "a2e76dfc-e5f3-4754-a763-c716289dccea",
   "metadata": {},
   "source": [
    "------------------------------------------------------vectorizing the word-------------------------------------------------------------------------------"
   ]
  },
  {
   "cell_type": "code",
   "execution_count": 39,
   "id": "f428441e-76ec-440e-8870-a9990047e69f",
   "metadata": {
    "tags": []
   },
   "outputs": [
    {
     "name": "stdout",
     "output_type": "stream",
     "text": [
      "Shape of X_train_bow: (26521, 5000)\n",
      "Shape of X_val_bow: (13261, 5000)\n",
      "Shape of X_test_bow: (13261, 5000)\n"
     ]
    }
   ],
   "source": [
    "from sklearn.feature_extraction.text import CountVectorizer\n",
    "\n",
    "custom_stop_words = ['the', 'a', 'an', 'and', 'or', 'but', 'so']  # Add common words to your stop list\n",
    "vectorizer = CountVectorizer(stop_words=custom_stop_words, ngram_range=(1, 2), max_features=5000)\n",
    "\n",
    "# Use the defined vectorizer variable\n",
    "X_train_bow = vectorizer.fit_transform(x_train)\n",
    "X_val_bow = vectorizer.transform(x_val)\n",
    "X_test_bow = vectorizer.transform(x_test)\n",
    "\n",
    "# Print the shapes of the resulting matrices\n",
    "print(f\"Shape of X_train_bow: {X_train_bow.shape}\")\n",
    "print(f\"Shape of X_val_bow: {X_val_bow.shape}\")\n",
    "print(f\"Shape of X_test_bow: {X_test_bow.shape}\")\n"
   ]
  },
  {
   "cell_type": "markdown",
   "id": "66463c9d-c628-4be0-8700-0debedf3b3e4",
   "metadata": {},
   "source": [
    "-------------------------------------------------------------------logistic regression------------------------------------------------------------------"
   ]
  },
  {
   "cell_type": "markdown",
   "id": "e4e5144e-a36e-496e-a8e4-0ba1b5c47102",
   "metadata": {},
   "source": [
    "-------------------------------------------------------training the model aand testing on the validation dataset----------------------------------------"
   ]
  },
  {
   "cell_type": "code",
   "execution_count": null,
   "id": "7c21a5d2-ed38-4e2d-a505-94923973e5c4",
   "metadata": {},
   "outputs": [],
   "source": []
  },
  {
   "cell_type": "code",
   "execution_count": 42,
   "id": "a726494b-8740-4968-a7bc-a14c97673c97",
   "metadata": {
    "tags": []
   },
   "outputs": [
    {
     "name": "stdout",
     "output_type": "stream",
     "text": [
      "Validation Accuracy: 92.01%\n",
      "Validation Loss: 0.2281\n",
      "              precision    recall  f1-score   support\n",
      "\n",
      "           0       0.84      0.93      0.88      4364\n",
      "           1       0.96      0.91      0.94      8897\n",
      "\n",
      "    accuracy                           0.92     13261\n",
      "   macro avg       0.90      0.92      0.91     13261\n",
      "weighted avg       0.92      0.92      0.92     13261\n",
      "\n"
     ]
    }
   ],
   "source": [
    "from sklearn.linear_model import LogisticRegression\n",
    "from sklearn.metrics import accuracy_score, log_loss, classification_report\n",
    "\n",
    "# Assuming X_train_bow, X_val_bow, and y_train, y_val are already defined\n",
    "model = LogisticRegression(max_iter=1000, C=0.1, penalty=\"l2\")\n",
    "model.fit(X_train_bow, y_train)\n",
    "\n",
    "# Predictions\n",
    "y_val_pred = model.predict(X_val_bow)\n",
    "y_val_pred_prob = model.predict_proba(X_val_bow)\n",
    "\n",
    "# Calculate accuracy and log loss\n",
    "accuracy = accuracy_score(y_val, y_val_pred)\n",
    "val_loss = log_loss(y_val, y_val_pred_prob)\n",
    "\n",
    "# Print results\n",
    "print(f\"Validation Accuracy: {accuracy * 100:.2f}%\")\n",
    "print(f\"Validation Loss: {val_loss:.4f}\")\n",
    "print(classification_report(y_val, y_val_pred))\n",
    "\n"
   ]
  },
  {
   "cell_type": "markdown",
   "id": "0dcff17c-cb01-4cac-bf8f-9cc6a2130dc6",
   "metadata": {},
   "source": [
    "----------------------------------------------------------confusion matrix for logistic regression-------------------------------------------------------"
   ]
  },
  {
   "cell_type": "code",
   "execution_count": 44,
   "id": "a9225eaa-d4bc-471e-b001-083b9501b9d6",
   "metadata": {},
   "outputs": [
    {
     "data": {
      "image/png": "[encoded data removed]",
      "text/plain": [
       "<Figure size 500x500 with 2 Axes>"
      ]
     },
     "metadata": {},
     "output_type": "display_data"
    }
   ],
   "source": [
    "conf_matrix = confusion_matrix(y_val, y_val_pred)\n",
    "plt.figure(figsize=(5, 5))\n",
    "sns.heatmap(conf_matrix, annot=True, fmt=\"d\", cmap=\"Blues\", xticklabels=[0, 1], yticklabels=[0, 1])\n",
    "plt.xlabel('Predicted Labels')\n",
    "plt.ylabel('True Labels')\n",
    "plt.title('Confusion Matrix')\n",
    "plt.show()"
   ]
  },
  {
   "cell_type": "markdown",
   "id": "2826a6b5-fb5a-44aa-b13d-f31ab7690b63",
   "metadata": {},
   "source": [
    "---------------------------------------------------------------Testing the model on the testing dataset--------------------------------------------------"
   ]
  },
  {
   "cell_type": "code",
   "execution_count": 46,
   "id": "33bb0fb8-97bd-4af4-b3b9-f3ec9a2a436a",
   "metadata": {
    "tags": []
   },
   "outputs": [
    {
     "name": "stdout",
     "output_type": "stream",
     "text": [
      "Test Accuracy: 92.26%\n",
      "Test Loss (Log Loss): 0.2332\n",
      "Classification Report:\n",
      "              precision    recall  f1-score   support\n",
      "\n",
      "           0       0.85      0.93      0.89      4471\n",
      "           1       0.97      0.92      0.94      8790\n",
      "\n",
      "    accuracy                           0.92     13261\n",
      "   macro avg       0.91      0.93      0.92     13261\n",
      "weighted avg       0.93      0.92      0.92     13261\n",
      "\n"
     ]
    }
   ],
   "source": [
    "from sklearn.linear_model import LogisticRegression\n",
    "from sklearn.metrics import accuracy_score, log_loss, classification_report\n",
    "\n",
    "\n",
    "model = LogisticRegression(max_iter=1000, C=0.1, penalty=\"l2\")\n",
    "\n",
    "model.fit(X_train_bow, y_train)\n",
    "\n",
    "y_test_pred = model.predict(X_test_bow)\n",
    "y_test_pred_prob = model.predict_proba(X_test_bow)\n",
    "\n",
    "accuracy = accuracy_score(y_test, y_test_pred)\n",
    "test_loss = log_loss(y_test, y_test_pred_prob)\n",
    "\n",
    "\n",
    "print(f\"Test Accuracy: {accuracy * 100:.2f}%\")\n",
    "print(f\"Test Loss (Log Loss): {test_loss:.4f}\")\n",
    "print(\"Classification Report:\")\n",
    "print(classification_report(y_test, y_test_pred))\n"
   ]
  },
  {
   "cell_type": "code",
   "execution_count": 47,
   "id": "784ad31c-6e98-4746-82a5-3eebb2d74810",
   "metadata": {},
   "outputs": [
    {
     "data": {
      "image/png": "[encoded data removed]",
      "text/plain": [
       "<Figure size 800x600 with 2 Axes>"
      ]
     },
     "metadata": {},
     "output_type": "display_data"
    }
   ],
   "source": [
    "plt.figure(figsize=(8, 6))\n",
    "sns.heatmap(conf_matrix, annot=True, fmt=\"d\", cmap=\"Blues\", xticklabels=[\"Negative\", \"Positive\"], yticklabels=[\"Negative\", \"Positive\"])\n",
    "plt.title(\"Test Confusion Matrix\")\n",
    "plt.xlabel(\"Predicted Label\")\n",
    "plt.ylabel(\"True Label\")\n",
    "plt.show()"
   ]
  },
  {
   "cell_type": "markdown",
   "id": "70e91101-0dce-468a-a2bc-0c3d9bfb67d6",
   "metadata": {},
   "source": [
    "-----------------------------------------------------------Testing the logisitic regression model on new labels------------------------------------------"
   ]
  },
  {
   "cell_type": "code",
   "execution_count": 49,
   "id": "eb4f8373-2592-4b53-851e-6ab5a6806568",
   "metadata": {
    "tags": []
   },
   "outputs": [
    {
     "name": "stdout",
     "output_type": "stream",
     "text": [
      "Statement: I’ve been so nervous about the exams, I can’t stop worrying.\n",
      "Predicted Status: Abnormal\n",
      "--------------------------------------------------\n",
      "Statement: I don’t think anyone understands how much pressure I am under right now.\n",
      "Predicted Status: Normal\n",
      "--------------------------------------------------\n",
      "Statement: I am happy\n",
      "Predicted Status: Normal\n",
      "--------------------------------------------------\n",
      "Statement: I am excited\n",
      "Predicted Status: Normal\n",
      "--------------------------------------------------\n",
      "Statement: I am Anxiety\n",
      "Predicted Status: Abnormal\n",
      "--------------------------------------------------\n",
      "Statement: I’ve been so nervous amazingly about the exams, ace stop can’t worrying.\n",
      "Predicted Status: Abnormal\n",
      "--------------------------------------------------\n",
      "Statement: incredibly now. don’t think anyone understands how much pressure I am under right I\n",
      "Predicted Status: Normal\n",
      "--------------------------------------------------\n",
      "Statement: completely MA I happy\n",
      "Predicted Status: Normal\n",
      "--------------------------------------------------\n",
      "Statement: one excited strongly am\n",
      "Predicted Status: Normal\n",
      "--------------------------------------------------\n",
      "Statement: live somewhat I Anxiety\n",
      "Predicted Status: Normal\n",
      "--------------------------------------------------\n"
     ]
    }
   ],
   "source": [
    "new_statements = [\n",
    "    \"I’ve been so nervous about the exams, I can’t stop worrying.\",\n",
    "    \"I don’t think anyone understands how much pressure I am under right now.\",\n",
    "    \"I am happy\",  \n",
    "    \"I am excited\",\n",
    "    \"I am Anxiety\"\n",
    "]\n",
    "\n",
    "augmented_statements = []\n",
    "\n",
    "for statement in new_statements:\n",
    "    statement_synonym_replaced = synonym_replacement(statement)\n",
    "    statement_swapped = random_swap(statement_synonym_replaced)\n",
    "    statement_augmented = random_insertion(statement_swapped)\n",
    "    augmented_statements.append(statement_augmented)\n",
    "\n",
    "all_statements = new_statements + augmented_statements\n",
    "all_statements_bow = vectorizer.transform(all_statements)\n",
    "\n",
    "new_predictions = model.predict(all_statements_bow)\n",
    "\n",
    "for statement, prediction in zip(all_statements, new_predictions):\n",
    "    status = \"Abnormal\" if prediction == 1 else \"Normal\"\n",
    "    print(f\"Statement: {statement}\")\n",
    "    print(f\"Predicted Status: {status}\")\n",
    "    print(\"-\" * 50)\n"
   ]
  },
  {
   "cell_type": "code",
   "execution_count": null,
   "id": "5120e6ae-fbc2-4ed4-9428-f17811f9bea9",
   "metadata": {},
   "outputs": [],
   "source": []
  },
  {
   "cell_type": "code",
   "execution_count": null,
   "id": "902bed9a-4d7f-431a-831f-26d06a071485",
   "metadata": {},
   "outputs": [],
   "source": []
  },
  {
   "cell_type": "markdown",
   "id": "ad448a96-1943-4487-b0ad-7d8a059e4711",
   "metadata": {},
   "source": [
    "----------------------------------------------------naive bayes model-----------------------------------------------------------------------------------"
   ]
  },
  {
   "cell_type": "markdown",
   "id": "ea27a5bf-2f3c-43a6-9865-4a2fd75517d5",
   "metadata": {},
   "source": [
    "---------------------------------------------------------training and testing the model on validation----------------------------------------------------"
   ]
  },
  {
   "cell_type": "code",
   "execution_count": 52,
   "id": "a9d6315c-845b-4c80-b615-2385dc6b5b74",
   "metadata": {
    "tags": []
   },
   "outputs": [
    {
     "name": "stdout",
     "output_type": "stream",
     "text": [
      "Validation Accuracy: 86.52%\n",
      "Validation Loss (Log Loss): 0.8512\n",
      "Classification Report:\n",
      "              precision    recall  f1-score   support\n",
      "\n",
      "           0       0.74      0.92      0.82      4364\n",
      "           1       0.95      0.84      0.89      8897\n",
      "\n",
      "    accuracy                           0.87     13261\n",
      "   macro avg       0.85      0.88      0.86     13261\n",
      "weighted avg       0.88      0.87      0.87     13261\n",
      "\n"
     ]
    }
   ],
   "source": [
    "from sklearn.naive_bayes import MultinomialNB\n",
    "from sklearn.metrics import accuracy_score, classification_report, log_loss\n",
    "from imblearn.over_sampling import SMOTE\n",
    "\n",
    "# Define custom class weights\n",
    "custom_class_weights = {0: 3, 1:1}\n",
    "\n",
    "# Apply SMOTE to balance the classes\n",
    "smote = SMOTE(random_state=42, sampling_strategy='auto')\n",
    "\n",
    "X_train_smote, y_train_smote = smote.fit_resample(X_train_bow, y_train)\n",
    "\n",
    "# Initialize and train the Multinomial Naive Bayes model\n",
    "nb_model = MultinomialNB(alpha=0.2, fit_prior=True)\n",
    "nb_model.class_prior = [custom_class_weights[0], custom_class_weights[1]]  # Set class priors\n",
    "nb_model.fit(X_train_smote, y_train_smote)\n",
    "\n",
    "# Predictions and evaluations\n",
    "y_val_pred = nb_model.predict(X_val_bow)\n",
    "y_val_pred_prob = nb_model.predict_proba(X_val_bow)\n",
    "\n",
    "# Calculate accuracy and log loss\n",
    "accuracy = accuracy_score(y_val, y_val_pred)\n",
    "val_loss = log_loss(y_val, y_val_pred_prob)\n",
    "\n",
    "# Print results\n",
    "print(f\"Validation Accuracy: {accuracy * 100:.2f}%\")\n",
    "print(f\"Validation Loss (Log Loss): {val_loss:.4f}\")\n",
    "print(\"Classification Report:\")\n",
    "print(classification_report(y_val, y_val_pred))\n"
   ]
  },
  {
   "cell_type": "code",
   "execution_count": null,
   "id": "38f8758a-bd11-47f4-af51-8496f16c84a2",
   "metadata": {},
   "outputs": [],
   "source": []
  },
  {
   "cell_type": "code",
   "execution_count": null,
   "id": "5c9ba0ab-adf1-4fec-acfa-12c0ab04ace7",
   "metadata": {},
   "outputs": [],
   "source": []
  },
  {
   "cell_type": "code",
   "execution_count": 53,
   "id": "59b20ca2-07eb-4180-9f20-98d0e95a4ee1",
   "metadata": {},
   "outputs": [
    {
     "data": {
      "image/png": "[encoded data removed]",
      "text/plain": [
       "<Figure size 800x600 with 2 Axes>"
      ]
     },
     "metadata": {},
     "output_type": "display_data"
    }
   ],
   "source": [
    "conf_matrix = confusion_matrix(y_val, y_val_pred)\n",
    "\n",
    "plt.figure(figsize=(8, 6))\n",
    "sns.heatmap(conf_matrix, annot=True, fmt=\"d\", cmap=\"Blues\", xticklabels=[\"Negative\", \"Positive\"], yticklabels=[\"Negative\", \"Positive\"])\n",
    "plt.title(\"Validation Confusion Matrix\")\n",
    "plt.xlabel(\"Predicted Label\")\n",
    "plt.ylabel(\"True Label\")\n",
    "plt.show()"
   ]
  },
  {
   "cell_type": "code",
   "execution_count": null,
   "id": "d30786a7-581b-455e-94d3-08958a9159c3",
   "metadata": {},
   "outputs": [],
   "source": []
  },
  {
   "cell_type": "markdown",
   "id": "452a0759-f45a-4c68-b426-79331545fcfc",
   "metadata": {},
   "source": [
    "--------------------------------------------------------------trying the model on the test dataset------------------------------------------------------"
   ]
  },
  {
   "cell_type": "code",
   "execution_count": 55,
   "id": "e61767af-b6fc-4137-bef7-7ea1be164136",
   "metadata": {
    "tags": []
   },
   "outputs": [
    {
     "name": "stdout",
     "output_type": "stream",
     "text": [
      "Test Accuracy: 86.92%\n",
      "Test Loss (Log Loss): 0.8546\n",
      "Test Classification Report:\n",
      "              precision    recall  f1-score   support\n",
      "\n",
      "           0       0.75      0.92      0.83      4471\n",
      "           1       0.96      0.84      0.90      8790\n",
      "\n",
      "    accuracy                           0.87     13261\n",
      "   macro avg       0.85      0.88      0.86     13261\n",
      "weighted avg       0.89      0.87      0.87     13261\n",
      "\n"
     ]
    }
   ],
   "source": [
    "# Predictions for the test set using the Naive Bayes model\n",
    "y_test_pred = nb_model.predict(X_test_bow)\n",
    "y_test_pred_prob = nb_model.predict_proba(X_test_bow)\n",
    "\n",
    "# Calculate test accuracy and log loss\n",
    "test_accuracy = accuracy_score(y_test, y_test_pred)\n",
    "test_loss = log_loss(y_test, y_test_pred_prob)\n",
    "\n",
    "# Print results\n",
    "print(f\"Test Accuracy: {test_accuracy * 100:.2f}%\")\n",
    "print(f\"Test Loss (Log Loss): {test_loss:.4f}\")\n",
    "print(\"Test Classification Report:\")\n",
    "print(classification_report(y_test, y_test_pred))\n"
   ]
  },
  {
   "cell_type": "code",
   "execution_count": null,
   "id": "969f74db-360c-464a-b697-eaf21fcdaf97",
   "metadata": {},
   "outputs": [],
   "source": []
  },
  {
   "cell_type": "code",
   "execution_count": 56,
   "id": "33c5a64b-ba47-44bd-bb06-859fe8d525db",
   "metadata": {
    "tags": []
   },
   "outputs": [
    {
     "data": {
      "image/png": "[encoded data removed]",
      "text/plain": [
       "<Figure size 800x600 with 2 Axes>"
      ]
     },
     "metadata": {},
     "output_type": "display_data"
    }
   ],
   "source": [
    "test_conf_matrix = confusion_matrix(y_test, y_test_pred)\n",
    "plt.figure(figsize=(8, 6))\n",
    "sns.heatmap(test_conf_matrix, annot=True, fmt=\"d\", cmap=\"Blues\", xticklabels=[\"Negative\", \"Positive\"], yticklabels=[\"Negative\", \"Positive\"])\n",
    "plt.title(\"Test Confusion Matrix\")\n",
    "plt.xlabel(\"Predicted Label\")\n",
    "plt.ylabel(\"True Label\")\n",
    "plt.show()"
   ]
  },
  {
   "cell_type": "code",
   "execution_count": null,
   "id": "5d88bae3-08ee-4b35-b02b-b935a5135001",
   "metadata": {},
   "outputs": [],
   "source": []
  },
  {
   "cell_type": "code",
   "execution_count": null,
   "id": "e161edf8-7ec2-43fd-a8f3-b0ccff594994",
   "metadata": {},
   "outputs": [],
   "source": []
  },
  {
   "cell_type": "markdown",
   "id": "d3200974-d69d-4aad-9349-6503ae246dd0",
   "metadata": {
    "tags": []
   },
   "source": [
    "-----------------------------------------------------------Testing the naive bayes on new samples------------------------------------------------"
   ]
  },
  {
   "cell_type": "code",
   "execution_count": 63,
   "id": "e1feccde-60f2-4e4f-8f6e-b8d37580bc6e",
   "metadata": {
    "tags": []
   },
   "outputs": [
    {
     "name": "stdout",
     "output_type": "stream",
     "text": [
      "Statement: I’ve been so nervous about the exams, I can’t stop worrying.\n",
      "Predicted Status: Abnormal\n",
      "\n",
      "Statement: I don’t think anyone understands how much pressure I am under right now.\n",
      "Predicted Status: Abnormal\n",
      "\n",
      "Statement: happy\n",
      "Predicted Status: Abnormal\n",
      "\n",
      "Statement: excited\n",
      "Predicted Status: Normal\n",
      "\n",
      "Statement: i want to die\n",
      "Predicted Status: Abnormal\n",
      "\n"
     ]
    }
   ],
   "source": [
    "import random\n",
    "import string\n",
    "import re\n",
    "from nltk.corpus import wordnet\n",
    "from sklearn.feature_extraction.text import CountVectorizer\n",
    "from sklearn.naive_bayes import MultinomialNB\n",
    "\n",
    "# Example data: define 'new_statements' with your raw statements\n",
    "new_statements = [\n",
    "    \"I’ve been so nervous about the exams, I can’t stop worrying.\",\n",
    "    \"I don’t think anyone understands how much pressure I am under right now.\",\n",
    "    \"happy\",\n",
    "    \"excited\",\n",
    "    \"i want to die\",\n",
    "]\n",
    "\n",
    "# Preprocess the statements\n",
    "cleaned_statements = [preprocess_text(statement) for statement in new_statements]\n",
    "\n",
    "# Assuming you already have your training data and labels\n",
    "# For example, 'train_statements' contains your training text data and 'train_labels' contains the labels (0 or 1)\n",
    "train_statements = data['feature'].tolist()  # Use your actual training data\n",
    "train_labels = data['label'].tolist()  # Use your actual labels\n",
    "\n",
    "# Initialize CountVectorizer and fit on the training data\n",
    "vectorizer = CountVectorizer()\n",
    "train_statements_bow = vectorizer.fit_transform(train_statements)\n",
    "\n",
    "# Train the Naive Bayes model\n",
    "nb_model = MultinomialNB()\n",
    "nb_model.fit(train_statements_bow, train_labels)\n",
    "\n",
    "# Transform the cleaned new statements using the fitted vectorizer\n",
    "new_statements_bow = vectorizer.transform(cleaned_statements)\n",
    "\n",
    "# Predict the status of the new statements\n",
    "new_status_pred = nb_model.predict(new_statements_bow)\n",
    "\n",
    "# Print the statements and their predicted statuses\n",
    "for statement, prediction in zip(new_statements, new_status_pred):\n",
    "    print(f\"Statement: {statement}\")\n",
    "    print(f\"Predicted Status: {'Abnormal' if prediction == 1 else 'Normal'}\\n\")\n"
   ]
  },
  {
   "cell_type": "code",
   "execution_count": null,
   "id": "f51e7dd7-e3ad-4f1f-ab65-96abc86d3dd9",
   "metadata": {},
   "outputs": [],
   "source": []
  },
  {
   "cell_type": "code",
   "execution_count": null,
   "id": "a5bfd7d5-0ae8-4d37-9f87-7a48a9a86ae4",
   "metadata": {},
   "outputs": [],
   "source": []
  },
  {
   "cell_type": "code",
   "execution_count": null,
   "id": "8b77f3bf-1a21-4f36-8ecc-4aa5e40f166d",
   "metadata": {},
   "outputs": [],
   "source": []
  }
 ],
 "metadata": {
  "kernelspec": {
   "display_name": "Python 3 (ipykernel)",
   "language": "python",
   "name": "python3"
  },
  "language_info": {
   "codemirror_mode": {
    "name": "ipython",
    "version": 3
   },
   "file_extension": ".py",
   "mimetype": "text/x-python",
   "name": "python",
   "nbconvert_exporter": "python",
   "pygments_lexer": "ipython3",
   "version": "3.11.7"
  }
 },
 "nbformat": 4,
 "nbformat_minor": 5
}
